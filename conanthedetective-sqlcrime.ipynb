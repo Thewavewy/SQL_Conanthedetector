{
 "cells": [
  {
   "cell_type": "code",
   "execution_count": 1,
   "id": "20b99f5a",
   "metadata": {
    "_cell_guid": "b1076dfc-b9ad-4769-8c92-a6c4dae69d19",
    "_uuid": "8f2839f25d086af736a60e9eeb907d3b93b6e0e5",
    "execution": {
     "iopub.execute_input": "2024-10-09T11:37:03.736501Z",
     "iopub.status.busy": "2024-10-09T11:37:03.736142Z",
     "iopub.status.idle": "2024-10-09T11:37:04.599586Z",
     "shell.execute_reply": "2024-10-09T11:37:04.598506Z"
    },
    "papermill": {
     "duration": 0.875693,
     "end_time": "2024-10-09T11:37:04.602381",
     "exception": false,
     "start_time": "2024-10-09T11:37:03.726688",
     "status": "completed"
    },
    "tags": []
   },
   "outputs": [
    {
     "name": "stdout",
     "output_type": "stream",
     "text": [
      "/kaggle/input/sql-murder-mystery-database/sql-murder-mystery.db\n"
     ]
    }
   ],
   "source": [
    "# This Python 3 environment comes with many helpful analytics libraries installed\n",
    "# It is defined by the kaggle/python Docker image: https://github.com/kaggle/docker-python\n",
    "# For example, here's several helpful packages to load\n",
    "\n",
    "import numpy as np # linear algebra\n",
    "import pandas as pd # data processing, CSV file I/O (e.g. pd.read_csv)\n",
    "\n",
    "# Input data files are available in the read-only \"../input/\" directory\n",
    "# For example, running this (by clicking run or pressing Shift+Enter) will list all files under the input directory\n",
    "\n",
    "import os\n",
    "for dirname, _, filenames in os.walk('/kaggle/input'):\n",
    "    for filename in filenames:\n",
    "        print(os.path.join(dirname, filename))\n",
    "\n",
    "# You can write up to 20GB to the current directory (/kaggle/working/) that gets preserved as output when you create a version using \"Save & Run All\" \n",
    "# You can also write temporary files to /kaggle/temp/, but they won't be saved outside of the current session"
   ]
  },
  {
   "cell_type": "markdown",
   "id": "5f4ed4c8",
   "metadata": {
    "papermill": {
     "duration": 0.007247,
     "end_time": "2024-10-09T11:37:04.616580",
     "exception": false,
     "start_time": "2024-10-09T11:37:04.609333",
     "status": "completed"
    },
    "tags": []
   },
   "source": [
    "# **Finding the real murder of the crimes by SQL**"
   ]
  },
  {
   "cell_type": "markdown",
   "id": "78f52d6f",
   "metadata": {
    "papermill": {
     "duration": 0.006236,
     "end_time": "2024-10-09T11:37:04.629860",
     "exception": false,
     "start_time": "2024-10-09T11:37:04.623624",
     "status": "completed"
    },
    "tags": []
   },
   "source": [
    "in this notebook, we will demonstrate SQL query to inspect the crime data from SQL Murder data mystery database. We will become conan the detectives.📍"
   ]
  },
  {
   "cell_type": "markdown",
   "id": "bde02b4d",
   "metadata": {
    "papermill": {
     "duration": 0.006257,
     "end_time": "2024-10-09T11:37:04.642512",
     "exception": false,
     "start_time": "2024-10-09T11:37:04.636255",
     "status": "completed"
    },
    "tags": []
   },
   "source": [
    "# Step 1 : Setting Environment and Connect to Database"
   ]
  },
  {
   "cell_type": "code",
   "execution_count": 2,
   "id": "1886d28c",
   "metadata": {
    "execution": {
     "iopub.execute_input": "2024-10-09T11:37:04.658264Z",
     "iopub.status.busy": "2024-10-09T11:37:04.657714Z",
     "iopub.status.idle": "2024-10-09T11:37:04.663203Z",
     "shell.execute_reply": "2024-10-09T11:37:04.662112Z"
    },
    "papermill": {
     "duration": 0.015113,
     "end_time": "2024-10-09T11:37:04.665446",
     "exception": false,
     "start_time": "2024-10-09T11:37:04.650333",
     "status": "completed"
    },
    "tags": []
   },
   "outputs": [],
   "source": [
    "# import some useful libraries\n",
    "import sqlite3 as sql\n",
    "import numpy as np\n",
    "import pandas as np\n",
    "pd.set_option('display.max_colwidth', None)"
   ]
  },
  {
   "cell_type": "code",
   "execution_count": 3,
   "id": "000f07bd",
   "metadata": {
    "execution": {
     "iopub.execute_input": "2024-10-09T11:37:04.680391Z",
     "iopub.status.busy": "2024-10-09T11:37:04.679488Z",
     "iopub.status.idle": "2024-10-09T11:37:04.689090Z",
     "shell.execute_reply": "2024-10-09T11:37:04.687741Z"
    },
    "papermill": {
     "duration": 0.019779,
     "end_time": "2024-10-09T11:37:04.691565",
     "exception": false,
     "start_time": "2024-10-09T11:37:04.671786",
     "status": "completed"
    },
    "tags": []
   },
   "outputs": [],
   "source": [
    "# coonect to the database\n",
    "con = sql.connect('../input/sql-murder-mystery-database/sql-murder-mystery.db')"
   ]
  },
  {
   "cell_type": "markdown",
   "id": "0445db39",
   "metadata": {
    "papermill": {
     "duration": 0.006496,
     "end_time": "2024-10-09T11:37:04.704958",
     "exception": false,
     "start_time": "2024-10-09T11:37:04.698462",
     "status": "completed"
    },
    "tags": []
   },
   "source": [
    "at this step, the database will connect to the notebook. We are ready to dive into data."
   ]
  },
  {
   "cell_type": "markdown",
   "id": "48a7e8c1",
   "metadata": {
    "papermill": {
     "duration": 0.005924,
     "end_time": "2024-10-09T11:37:04.718085",
     "exception": false,
     "start_time": "2024-10-09T11:37:04.712161",
     "status": "completed"
    },
    "tags": []
   },
   "source": [
    "# Step 2 : Exploring the data"
   ]
  },
  {
   "cell_type": "code",
   "execution_count": 4,
   "id": "96f5afe3",
   "metadata": {
    "execution": {
     "iopub.execute_input": "2024-10-09T11:37:04.733858Z",
     "iopub.status.busy": "2024-10-09T11:37:04.732688Z",
     "iopub.status.idle": "2024-10-09T11:37:04.762670Z",
     "shell.execute_reply": "2024-10-09T11:37:04.761372Z"
    },
    "papermill": {
     "duration": 0.040254,
     "end_time": "2024-10-09T11:37:04.764793",
     "exception": false,
     "start_time": "2024-10-09T11:37:04.724539",
     "status": "completed"
    },
    "tags": []
   },
   "outputs": [
    {
     "data": {
      "text/html": [
       "<div>\n",
       "<style scoped>\n",
       "    .dataframe tbody tr th:only-of-type {\n",
       "        vertical-align: middle;\n",
       "    }\n",
       "\n",
       "    .dataframe tbody tr th {\n",
       "        vertical-align: top;\n",
       "    }\n",
       "\n",
       "    .dataframe thead th {\n",
       "        text-align: right;\n",
       "    }\n",
       "</style>\n",
       "<table border=\"1\" class=\"dataframe\">\n",
       "  <thead>\n",
       "    <tr style=\"text-align: right;\">\n",
       "      <th></th>\n",
       "      <th>date</th>\n",
       "      <th>type</th>\n",
       "      <th>description</th>\n",
       "      <th>city</th>\n",
       "    </tr>\n",
       "  </thead>\n",
       "  <tbody>\n",
       "    <tr>\n",
       "      <th>0</th>\n",
       "      <td>20180115</td>\n",
       "      <td>robbery</td>\n",
       "      <td>A Man Dressed as Spider-Man Is on a Robbery Spree</td>\n",
       "      <td>NYC</td>\n",
       "    </tr>\n",
       "    <tr>\n",
       "      <th>1</th>\n",
       "      <td>20180115</td>\n",
       "      <td>murder</td>\n",
       "      <td>Life? Dont talk to me about life.</td>\n",
       "      <td>Albany</td>\n",
       "    </tr>\n",
       "    <tr>\n",
       "      <th>2</th>\n",
       "      <td>20180115</td>\n",
       "      <td>murder</td>\n",
       "      <td>Mama, I killed a man, put a gun against his head...</td>\n",
       "      <td>Reno</td>\n",
       "    </tr>\n",
       "    <tr>\n",
       "      <th>3</th>\n",
       "      <td>20180215</td>\n",
       "      <td>murder</td>\n",
       "      <td>REDACTED REDACTED REDACTED</td>\n",
       "      <td>SQL City</td>\n",
       "    </tr>\n",
       "    <tr>\n",
       "      <th>4</th>\n",
       "      <td>20180215</td>\n",
       "      <td>murder</td>\n",
       "      <td>Someone killed the guard! He took an arrow to the knee!</td>\n",
       "      <td>SQL City</td>\n",
       "    </tr>\n",
       "  </tbody>\n",
       "</table>\n",
       "</div>"
      ],
      "text/plain": [
       "       date     type                                              description  \\\n",
       "0  20180115  robbery        A Man Dressed as Spider-Man Is on a Robbery Spree   \n",
       "1  20180115   murder                        Life? Dont talk to me about life.   \n",
       "2  20180115   murder      Mama, I killed a man, put a gun against his head...   \n",
       "3  20180215   murder                               REDACTED REDACTED REDACTED   \n",
       "4  20180215   murder  Someone killed the guard! He took an arrow to the knee!   \n",
       "\n",
       "       city  \n",
       "0       NYC  \n",
       "1    Albany  \n",
       "2      Reno  \n",
       "3  SQL City  \n",
       "4  SQL City  "
      ]
     },
     "execution_count": 4,
     "metadata": {},
     "output_type": "execute_result"
    }
   ],
   "source": [
    "query1 = \"\"\"\n",
    "SELECT *\n",
    "FROM crime_scene_report LIMIT 5\n",
    "\"\"\"\n",
    "pd.read_sql_query(query1, con)"
   ]
  },
  {
   "cell_type": "code",
   "execution_count": 5,
   "id": "4eae59f8",
   "metadata": {
    "execution": {
     "iopub.execute_input": "2024-10-09T11:37:04.779259Z",
     "iopub.status.busy": "2024-10-09T11:37:04.778785Z",
     "iopub.status.idle": "2024-10-09T11:37:04.812972Z",
     "shell.execute_reply": "2024-10-09T11:37:04.811755Z"
    },
    "papermill": {
     "duration": 0.044205,
     "end_time": "2024-10-09T11:37:04.815392",
     "exception": false,
     "start_time": "2024-10-09T11:37:04.771187",
     "status": "completed"
    },
    "tags": []
   },
   "outputs": [
    {
     "data": {
      "text/html": [
       "<div>\n",
       "<style scoped>\n",
       "    .dataframe tbody tr th:only-of-type {\n",
       "        vertical-align: middle;\n",
       "    }\n",
       "\n",
       "    .dataframe tbody tr th {\n",
       "        vertical-align: top;\n",
       "    }\n",
       "\n",
       "    .dataframe thead th {\n",
       "        text-align: right;\n",
       "    }\n",
       "</style>\n",
       "<table border=\"1\" class=\"dataframe\">\n",
       "  <thead>\n",
       "    <tr style=\"text-align: right;\">\n",
       "      <th></th>\n",
       "      <th>city</th>\n",
       "      <th>number_of_crime</th>\n",
       "    </tr>\n",
       "  </thead>\n",
       "  <tbody>\n",
       "    <tr>\n",
       "      <th>0</th>\n",
       "      <td>SQL City</td>\n",
       "      <td>9</td>\n",
       "    </tr>\n",
       "    <tr>\n",
       "      <th>1</th>\n",
       "      <td>Murfreesboro</td>\n",
       "      <td>9</td>\n",
       "    </tr>\n",
       "    <tr>\n",
       "      <th>2</th>\n",
       "      <td>Toledo</td>\n",
       "      <td>8</td>\n",
       "    </tr>\n",
       "    <tr>\n",
       "      <th>3</th>\n",
       "      <td>Jersey City</td>\n",
       "      <td>8</td>\n",
       "    </tr>\n",
       "    <tr>\n",
       "      <th>4</th>\n",
       "      <td>Evansville</td>\n",
       "      <td>8</td>\n",
       "    </tr>\n",
       "    <tr>\n",
       "      <th>...</th>\n",
       "      <td>...</td>\n",
       "      <td>...</td>\n",
       "    </tr>\n",
       "    <tr>\n",
       "      <th>372</th>\n",
       "      <td>Barnstable</td>\n",
       "      <td>1</td>\n",
       "    </tr>\n",
       "    <tr>\n",
       "      <th>373</th>\n",
       "      <td>Arvada</td>\n",
       "      <td>1</td>\n",
       "    </tr>\n",
       "    <tr>\n",
       "      <th>374</th>\n",
       "      <td>Allentown</td>\n",
       "      <td>1</td>\n",
       "    </tr>\n",
       "    <tr>\n",
       "      <th>375</th>\n",
       "      <td>Alexandria</td>\n",
       "      <td>1</td>\n",
       "    </tr>\n",
       "    <tr>\n",
       "      <th>376</th>\n",
       "      <td>Albany</td>\n",
       "      <td>1</td>\n",
       "    </tr>\n",
       "  </tbody>\n",
       "</table>\n",
       "<p>377 rows × 2 columns</p>\n",
       "</div>"
      ],
      "text/plain": [
       "             city  number_of_crime\n",
       "0        SQL City                9\n",
       "1    Murfreesboro                9\n",
       "2          Toledo                8\n",
       "3     Jersey City                8\n",
       "4      Evansville                8\n",
       "..            ...              ...\n",
       "372    Barnstable                1\n",
       "373        Arvada                1\n",
       "374     Allentown                1\n",
       "375    Alexandria                1\n",
       "376        Albany                1\n",
       "\n",
       "[377 rows x 2 columns]"
      ]
     },
     "execution_count": 5,
     "metadata": {},
     "output_type": "execute_result"
    }
   ],
   "source": [
    "# the most frequent city in crime\n",
    "query2 = \"\"\"\n",
    "SELECT city, count(city) AS number_of_crime from crime_scene_report\n",
    "group by city\n",
    "order by count(city) DESC;\n",
    "\"\"\"\n",
    "pd.read_sql_query(query2, con)"
   ]
  },
  {
   "cell_type": "markdown",
   "id": "d10d5606",
   "metadata": {
    "papermill": {
     "duration": 0.006215,
     "end_time": "2024-10-09T11:37:04.828257",
     "exception": false,
     "start_time": "2024-10-09T11:37:04.822042",
     "status": "completed"
    },
    "tags": []
   },
   "source": [
    "the most frequent cities are SQL City and Murfreeboro"
   ]
  },
  {
   "cell_type": "code",
   "execution_count": 6,
   "id": "c66ad850",
   "metadata": {
    "execution": {
     "iopub.execute_input": "2024-10-09T11:37:04.843353Z",
     "iopub.status.busy": "2024-10-09T11:37:04.843004Z",
     "iopub.status.idle": "2024-10-09T11:37:04.856799Z",
     "shell.execute_reply": "2024-10-09T11:37:04.855805Z"
    },
    "papermill": {
     "duration": 0.024432,
     "end_time": "2024-10-09T11:37:04.859175",
     "exception": false,
     "start_time": "2024-10-09T11:37:04.834743",
     "status": "completed"
    },
    "tags": []
   },
   "outputs": [
    {
     "data": {
      "text/html": [
       "<div>\n",
       "<style scoped>\n",
       "    .dataframe tbody tr th:only-of-type {\n",
       "        vertical-align: middle;\n",
       "    }\n",
       "\n",
       "    .dataframe tbody tr th {\n",
       "        vertical-align: top;\n",
       "    }\n",
       "\n",
       "    .dataframe thead th {\n",
       "        text-align: right;\n",
       "    }\n",
       "</style>\n",
       "<table border=\"1\" class=\"dataframe\">\n",
       "  <thead>\n",
       "    <tr style=\"text-align: right;\">\n",
       "      <th></th>\n",
       "      <th>date</th>\n",
       "      <th>city</th>\n",
       "      <th>description</th>\n",
       "    </tr>\n",
       "  </thead>\n",
       "  <tbody>\n",
       "    <tr>\n",
       "      <th>0</th>\n",
       "      <td>20180215</td>\n",
       "      <td>SQL City</td>\n",
       "      <td>REDACTED REDACTED REDACTED</td>\n",
       "    </tr>\n",
       "    <tr>\n",
       "      <th>1</th>\n",
       "      <td>20180215</td>\n",
       "      <td>SQL City</td>\n",
       "      <td>Someone killed the guard! He took an arrow to the knee!</td>\n",
       "    </tr>\n",
       "    <tr>\n",
       "      <th>2</th>\n",
       "      <td>20170712</td>\n",
       "      <td>SQL City</td>\n",
       "      <td>A lone hunter stalks the night, firing arrows into the Darkness.\\n            There is no hiding, no escape. In the distance, the beast\\n            falters, tethered to the void. The killing blow comes without\\n            hesitation, without mercy.</td>\n",
       "    </tr>\n",
       "    <tr>\n",
       "      <th>3</th>\n",
       "      <td>20170820</td>\n",
       "      <td>SQL City</td>\n",
       "      <td>Wield the Hammer of Sol with honor, Titan, it is a thing of\\n            legend, both past and future.</td>\n",
       "    </tr>\n",
       "    <tr>\n",
       "      <th>4</th>\n",
       "      <td>20171110</td>\n",
       "      <td>SQL City</td>\n",
       "      <td>The Gjallarhorn shoulder-mounted rocket system was forged from\\n            the armor of Guardians who fell at the Twilight Gap. Gifted\\n            to the survivors of that terrible battle, the Gjallarhorn\\n            is seen as a symbol of honor and survival.</td>\n",
       "    </tr>\n",
       "    <tr>\n",
       "      <th>5</th>\n",
       "      <td>20180103</td>\n",
       "      <td>SQL City</td>\n",
       "      <td>Apparently, Cayde thought it necessary to expose this extremely\\n            rare vegetable to a Hive summoning ritual.</td>\n",
       "    </tr>\n",
       "    <tr>\n",
       "      <th>6</th>\n",
       "      <td>20180115</td>\n",
       "      <td>SQL City</td>\n",
       "      <td>Hamilton: Lee, do you yield? Burr: You shot him in the side! Yes he yields!</td>\n",
       "    </tr>\n",
       "    <tr>\n",
       "      <th>7</th>\n",
       "      <td>20180115</td>\n",
       "      <td>SQL City</td>\n",
       "      <td>Report Not Found</td>\n",
       "    </tr>\n",
       "    <tr>\n",
       "      <th>8</th>\n",
       "      <td>20180115</td>\n",
       "      <td>SQL City</td>\n",
       "      <td>Security footage shows that there were 2 witnesses. The first witness lives at the last house on \"Northwestern Dr\". The second witness, named Annabel, lives somewhere on \"Franklin Ave\".</td>\n",
       "    </tr>\n",
       "  </tbody>\n",
       "</table>\n",
       "</div>"
      ],
      "text/plain": [
       "       date      city  \\\n",
       "0  20180215  SQL City   \n",
       "1  20180215  SQL City   \n",
       "2  20170712  SQL City   \n",
       "3  20170820  SQL City   \n",
       "4  20171110  SQL City   \n",
       "5  20180103  SQL City   \n",
       "6  20180115  SQL City   \n",
       "7  20180115  SQL City   \n",
       "8  20180115  SQL City   \n",
       "\n",
       "                                                                                                                                                                                                                                                              description  \n",
       "0                                                                                                                                                                                                                                              REDACTED REDACTED REDACTED  \n",
       "1                                                                                                                                                                                                                 Someone killed the guard! He took an arrow to the knee!  \n",
       "2              A lone hunter stalks the night, firing arrows into the Darkness.\\n            There is no hiding, no escape. In the distance, the beast\\n            falters, tethered to the void. The killing blow comes without\\n            hesitation, without mercy.  \n",
       "3                                                                                                                                                                  Wield the Hammer of Sol with honor, Titan, it is a thing of\\n            legend, both past and future.  \n",
       "4  The Gjallarhorn shoulder-mounted rocket system was forged from\\n            the armor of Guardians who fell at the Twilight Gap. Gifted\\n            to the survivors of that terrible battle, the Gjallarhorn\\n            is seen as a symbol of honor and survival.  \n",
       "5                                                                                                                                                 Apparently, Cayde thought it necessary to expose this extremely\\n            rare vegetable to a Hive summoning ritual.  \n",
       "6                                                                                                                                                                                             Hamilton: Lee, do you yield? Burr: You shot him in the side! Yes he yields!  \n",
       "7                                                                                                                                                                                                                                                        Report Not Found  \n",
       "8                                                                               Security footage shows that there were 2 witnesses. The first witness lives at the last house on \"Northwestern Dr\". The second witness, named Annabel, lives somewhere on \"Franklin Ave\".  "
      ]
     },
     "execution_count": 6,
     "metadata": {},
     "output_type": "execute_result"
    }
   ],
   "source": [
    "query3 = \"\"\"\n",
    "SELECT date, city, description from crime_scene_report\n",
    "where city == \"SQL City\";\n",
    "\"\"\"\n",
    "pd.read_sql_query(query3, con)"
   ]
  },
  {
   "cell_type": "code",
   "execution_count": 7,
   "id": "e1758e9b",
   "metadata": {
    "execution": {
     "iopub.execute_input": "2024-10-09T11:37:04.874637Z",
     "iopub.status.busy": "2024-10-09T11:37:04.874282Z",
     "iopub.status.idle": "2024-10-09T11:37:04.887830Z",
     "shell.execute_reply": "2024-10-09T11:37:04.886918Z"
    },
    "papermill": {
     "duration": 0.023737,
     "end_time": "2024-10-09T11:37:04.889824",
     "exception": false,
     "start_time": "2024-10-09T11:37:04.866087",
     "status": "completed"
    },
    "tags": []
   },
   "outputs": [
    {
     "data": {
      "text/html": [
       "<div>\n",
       "<style scoped>\n",
       "    .dataframe tbody tr th:only-of-type {\n",
       "        vertical-align: middle;\n",
       "    }\n",
       "\n",
       "    .dataframe tbody tr th {\n",
       "        vertical-align: top;\n",
       "    }\n",
       "\n",
       "    .dataframe thead th {\n",
       "        text-align: right;\n",
       "    }\n",
       "</style>\n",
       "<table border=\"1\" class=\"dataframe\">\n",
       "  <thead>\n",
       "    <tr style=\"text-align: right;\">\n",
       "      <th></th>\n",
       "      <th>city</th>\n",
       "      <th>description</th>\n",
       "    </tr>\n",
       "  </thead>\n",
       "  <tbody>\n",
       "    <tr>\n",
       "      <th>0</th>\n",
       "      <td>Murfreesboro</td>\n",
       "      <td>her, to pass away the time.\\n</td>\n",
       "    </tr>\n",
       "    <tr>\n",
       "      <th>1</th>\n",
       "      <td>Murfreesboro</td>\n",
       "      <td>‘An arm, you goose! Who ever saw one that size? Why, it fills the whole\\n</td>\n",
       "    </tr>\n",
       "    <tr>\n",
       "      <th>2</th>\n",
       "      <td>Murfreesboro</td>\n",
       "      <td>all talking together: she made out the words: ‘Where’s the other\\n</td>\n",
       "    </tr>\n",
       "    <tr>\n",
       "      <th>3</th>\n",
       "      <td>Murfreesboro</td>\n",
       "      <td>executed for having missed their turns, and she did not like the look\\n</td>\n",
       "    </tr>\n",
       "    <tr>\n",
       "      <th>4</th>\n",
       "      <td>Murfreesboro</td>\n",
       "      <td>candle is like after the candle is blown out, for she could not remember\\n</td>\n",
       "    </tr>\n",
       "    <tr>\n",
       "      <th>5</th>\n",
       "      <td>Murfreesboro</td>\n",
       "      <td>was a little startled by seeing the Cheshire Cat sitting on a bough of a\\n</td>\n",
       "    </tr>\n",
       "    <tr>\n",
       "      <th>6</th>\n",
       "      <td>Murfreesboro</td>\n",
       "      <td>\\n</td>\n",
       "    </tr>\n",
       "    <tr>\n",
       "      <th>7</th>\n",
       "      <td>Murfreesboro</td>\n",
       "      <td>And concluded the banquet--]\\n</td>\n",
       "    </tr>\n",
       "    <tr>\n",
       "      <th>8</th>\n",
       "      <td>Murfreesboro</td>\n",
       "      <td>said Alice, in a coaxing tone, and she tried hard to whistle to it; but\\n</td>\n",
       "    </tr>\n",
       "  </tbody>\n",
       "</table>\n",
       "</div>"
      ],
      "text/plain": [
       "           city  \\\n",
       "0  Murfreesboro   \n",
       "1  Murfreesboro   \n",
       "2  Murfreesboro   \n",
       "3  Murfreesboro   \n",
       "4  Murfreesboro   \n",
       "5  Murfreesboro   \n",
       "6  Murfreesboro   \n",
       "7  Murfreesboro   \n",
       "8  Murfreesboro   \n",
       "\n",
       "                                                                  description  \n",
       "0                                               her, to pass away the time.\\n  \n",
       "1   ‘An arm, you goose! Who ever saw one that size? Why, it fills the whole\\n  \n",
       "2          all talking together: she made out the words: ‘Where’s the other\\n  \n",
       "3     executed for having missed their turns, and she did not like the look\\n  \n",
       "4  candle is like after the candle is blown out, for she could not remember\\n  \n",
       "5  was a little startled by seeing the Cheshire Cat sitting on a bough of a\\n  \n",
       "6                                                                          \\n  \n",
       "7                                              And concluded the banquet--]\\n  \n",
       "8   said Alice, in a coaxing tone, and she tried hard to whistle to it; but\\n  "
      ]
     },
     "execution_count": 7,
     "metadata": {},
     "output_type": "execute_result"
    }
   ],
   "source": [
    "query4 = \"\"\"\n",
    "SELECT city, description from crime_scene_report\n",
    "where city == \"Murfreesboro\";\n",
    "\"\"\"\n",
    "pd.read_sql_query(query4, con)"
   ]
  },
  {
   "cell_type": "markdown",
   "id": "08f6e71b",
   "metadata": {
    "papermill": {
     "duration": 0.00695,
     "end_time": "2024-10-09T11:37:04.903803",
     "exception": false,
     "start_time": "2024-10-09T11:37:04.896853",
     "status": "completed"
    },
    "tags": []
   },
   "source": [
    "Since the description on Murfreesboro is all the way out of control, we will focus crimes happened in **SQL city.**"
   ]
  },
  {
   "cell_type": "markdown",
   "id": "f795035b",
   "metadata": {
    "papermill": {
     "duration": 0.006831,
     "end_time": "2024-10-09T11:37:04.917711",
     "exception": false,
     "start_time": "2024-10-09T11:37:04.910880",
     "status": "completed"
    },
    "tags": []
   },
   "source": [
    "# Step 3 : Look at what witness said"
   ]
  },
  {
   "cell_type": "markdown",
   "id": "da9a2e78",
   "metadata": {
    "papermill": {
     "duration": 0.007075,
     "end_time": "2024-10-09T11:37:04.931650",
     "exception": false,
     "start_time": "2024-10-09T11:37:04.924575",
     "status": "completed"
    },
    "tags": []
   },
   "source": [
    "From the clues, there was a witness near **Northwestern Dr** and **Franklin Ave** and he had an Arrow with him."
   ]
  },
  {
   "cell_type": "markdown",
   "id": "d0dbac25",
   "metadata": {
    "papermill": {
     "duration": 0.006709,
     "end_time": "2024-10-09T11:37:04.945529",
     "exception": false,
     "start_time": "2024-10-09T11:37:04.938820",
     "status": "completed"
    },
    "tags": []
   },
   "source": [
    "1st cuprit : last house of Northwestern Dr"
   ]
  },
  {
   "cell_type": "code",
   "execution_count": 8,
   "id": "4d23c452",
   "metadata": {
    "execution": {
     "iopub.execute_input": "2024-10-09T11:37:04.961801Z",
     "iopub.status.busy": "2024-10-09T11:37:04.960786Z",
     "iopub.status.idle": "2024-10-09T11:37:05.171545Z",
     "shell.execute_reply": "2024-10-09T11:37:05.170544Z"
    },
    "papermill": {
     "duration": 0.221297,
     "end_time": "2024-10-09T11:37:05.173968",
     "exception": false,
     "start_time": "2024-10-09T11:37:04.952671",
     "status": "completed"
    },
    "tags": []
   },
   "outputs": [
    {
     "data": {
      "text/html": [
       "<div>\n",
       "<style scoped>\n",
       "    .dataframe tbody tr th:only-of-type {\n",
       "        vertical-align: middle;\n",
       "    }\n",
       "\n",
       "    .dataframe tbody tr th {\n",
       "        vertical-align: top;\n",
       "    }\n",
       "\n",
       "    .dataframe thead th {\n",
       "        text-align: right;\n",
       "    }\n",
       "</style>\n",
       "<table border=\"1\" class=\"dataframe\">\n",
       "  <thead>\n",
       "    <tr style=\"text-align: right;\">\n",
       "      <th></th>\n",
       "      <th>id</th>\n",
       "      <th>name</th>\n",
       "      <th>license_id</th>\n",
       "      <th>address_number</th>\n",
       "      <th>address_street_name</th>\n",
       "      <th>ssn</th>\n",
       "    </tr>\n",
       "  </thead>\n",
       "  <tbody>\n",
       "    <tr>\n",
       "      <th>0</th>\n",
       "      <td>14887</td>\n",
       "      <td>Morty Schapiro</td>\n",
       "      <td>118009</td>\n",
       "      <td>4919</td>\n",
       "      <td>Northwestern Dr</td>\n",
       "      <td>111564949</td>\n",
       "    </tr>\n",
       "  </tbody>\n",
       "</table>\n",
       "</div>"
      ],
      "text/plain": [
       "      id            name  license_id  address_number address_street_name  \\\n",
       "0  14887  Morty Schapiro      118009            4919     Northwestern Dr   \n",
       "\n",
       "         ssn  \n",
       "0  111564949  "
      ]
     },
     "execution_count": 8,
     "metadata": {},
     "output_type": "execute_result"
    }
   ],
   "source": [
    "query5 = \"\"\"\n",
    "SELECT * FROM person\n",
    "where address_street_name = \"Northwestern Dr\" \n",
    "order by address_number DESC\n",
    "LIMIT 1;\n",
    "\"\"\"\n",
    "pd.read_sql_query(query5, con)"
   ]
  },
  {
   "cell_type": "markdown",
   "id": "76aa2a0d",
   "metadata": {
    "papermill": {
     "duration": 0.007388,
     "end_time": "2024-10-09T11:37:05.188800",
     "exception": false,
     "start_time": "2024-10-09T11:37:05.181412",
     "status": "completed"
    },
    "tags": []
   },
   "source": [
    "2nd culprit : named Annabel, lives somewhere on \"Franklin Ave\""
   ]
  },
  {
   "cell_type": "code",
   "execution_count": 9,
   "id": "17b876dc",
   "metadata": {
    "execution": {
     "iopub.execute_input": "2024-10-09T11:37:05.204927Z",
     "iopub.status.busy": "2024-10-09T11:37:05.204526Z",
     "iopub.status.idle": "2024-10-09T11:37:05.221377Z",
     "shell.execute_reply": "2024-10-09T11:37:05.220220Z"
    },
    "papermill": {
     "duration": 0.027927,
     "end_time": "2024-10-09T11:37:05.223893",
     "exception": false,
     "start_time": "2024-10-09T11:37:05.195966",
     "status": "completed"
    },
    "tags": []
   },
   "outputs": [
    {
     "data": {
      "text/html": [
       "<div>\n",
       "<style scoped>\n",
       "    .dataframe tbody tr th:only-of-type {\n",
       "        vertical-align: middle;\n",
       "    }\n",
       "\n",
       "    .dataframe tbody tr th {\n",
       "        vertical-align: top;\n",
       "    }\n",
       "\n",
       "    .dataframe thead th {\n",
       "        text-align: right;\n",
       "    }\n",
       "</style>\n",
       "<table border=\"1\" class=\"dataframe\">\n",
       "  <thead>\n",
       "    <tr style=\"text-align: right;\">\n",
       "      <th></th>\n",
       "      <th>id</th>\n",
       "      <th>name</th>\n",
       "      <th>license_id</th>\n",
       "      <th>address_number</th>\n",
       "      <th>address_street_name</th>\n",
       "      <th>ssn</th>\n",
       "    </tr>\n",
       "  </thead>\n",
       "  <tbody>\n",
       "    <tr>\n",
       "      <th>0</th>\n",
       "      <td>16371</td>\n",
       "      <td>Annabel Miller</td>\n",
       "      <td>490173</td>\n",
       "      <td>103</td>\n",
       "      <td>Franklin Ave</td>\n",
       "      <td>318771143</td>\n",
       "    </tr>\n",
       "  </tbody>\n",
       "</table>\n",
       "</div>"
      ],
      "text/plain": [
       "      id            name  license_id  address_number address_street_name  \\\n",
       "0  16371  Annabel Miller      490173             103        Franklin Ave   \n",
       "\n",
       "         ssn  \n",
       "0  318771143  "
      ]
     },
     "execution_count": 9,
     "metadata": {},
     "output_type": "execute_result"
    }
   ],
   "source": [
    "query6 = \"\"\"\n",
    "SELECT *\n",
    "FROM person\n",
    "WHERE name like '%Annabel%' AND address_street_name = \"Franklin Ave\";\n",
    "\"\"\"\n",
    "pd.read_sql_query(query6, con)"
   ]
  },
  {
   "cell_type": "markdown",
   "id": "fad7b0ee",
   "metadata": {
    "papermill": {
     "duration": 0.007064,
     "end_time": "2024-10-09T11:37:05.238482",
     "exception": false,
     "start_time": "2024-10-09T11:37:05.231418",
     "status": "completed"
    },
    "tags": []
   },
   "source": [
    "Those 2 witnesses are Annabel Miller (16731) and Morty Schapiro (14887). We are going to see what our witnesses said."
   ]
  },
  {
   "cell_type": "code",
   "execution_count": 10,
   "id": "1eaacaed",
   "metadata": {
    "execution": {
     "iopub.execute_input": "2024-10-09T11:37:05.254950Z",
     "iopub.status.busy": "2024-10-09T11:37:05.254585Z",
     "iopub.status.idle": "2024-10-09T11:37:05.365689Z",
     "shell.execute_reply": "2024-10-09T11:37:05.364806Z"
    },
    "papermill": {
     "duration": 0.122231,
     "end_time": "2024-10-09T11:37:05.368175",
     "exception": false,
     "start_time": "2024-10-09T11:37:05.245944",
     "status": "completed"
    },
    "tags": []
   },
   "outputs": [
    {
     "data": {
      "text/html": [
       "<div>\n",
       "<style scoped>\n",
       "    .dataframe tbody tr th:only-of-type {\n",
       "        vertical-align: middle;\n",
       "    }\n",
       "\n",
       "    .dataframe tbody tr th {\n",
       "        vertical-align: top;\n",
       "    }\n",
       "\n",
       "    .dataframe thead th {\n",
       "        text-align: right;\n",
       "    }\n",
       "</style>\n",
       "<table border=\"1\" class=\"dataframe\">\n",
       "  <thead>\n",
       "    <tr style=\"text-align: right;\">\n",
       "      <th></th>\n",
       "      <th>person_id</th>\n",
       "      <th>transcript</th>\n",
       "    </tr>\n",
       "  </thead>\n",
       "  <tbody>\n",
       "    <tr>\n",
       "      <th>0</th>\n",
       "      <td>14887</td>\n",
       "      <td>I heard a gunshot and then saw a man run out. He had a \"Get Fit Now Gym\" bag. The membership number on the bag started with \"48Z\". Only gold members have those bags. The man got into a car with a plate that included \"H42W\".</td>\n",
       "    </tr>\n",
       "    <tr>\n",
       "      <th>1</th>\n",
       "      <td>16371</td>\n",
       "      <td>I saw the murder happen, and I recognized the killer from my gym when I was working out last week on January the 9th.</td>\n",
       "    </tr>\n",
       "  </tbody>\n",
       "</table>\n",
       "</div>"
      ],
      "text/plain": [
       "   person_id  \\\n",
       "0      14887   \n",
       "1      16371   \n",
       "\n",
       "                                                                                                                                                                                                                        transcript  \n",
       "0  I heard a gunshot and then saw a man run out. He had a \"Get Fit Now Gym\" bag. The membership number on the bag started with \"48Z\". Only gold members have those bags. The man got into a car with a plate that included \"H42W\".  \n",
       "1                                                                                                            I saw the murder happen, and I recognized the killer from my gym when I was working out last week on January the 9th.  "
      ]
     },
     "execution_count": 10,
     "metadata": {},
     "output_type": "execute_result"
    }
   ],
   "source": [
    "query8 = \"\"\"\n",
    "SELECT *\n",
    "FROM interview\n",
    "WHERE person_id in (\"14887\",\"16371\");\n",
    "\"\"\"\n",
    "pd.read_sql_query(query8, con)"
   ]
  },
  {
   "cell_type": "markdown",
   "id": "5aaac1f8",
   "metadata": {
    "papermill": {
     "duration": 0.007089,
     "end_time": "2024-10-09T11:37:05.382846",
     "exception": false,
     "start_time": "2024-10-09T11:37:05.375757",
     "status": "completed"
    },
    "tags": []
   },
   "source": [
    "our culprit has 5 criterias\n",
    "1. have a gun\n",
    "2. There is a get fit now gym bag.\n",
    "3. member num starts at 48Z\n",
    "4. car has H42W in plate\n",
    "5. Born on 9 January"
   ]
  },
  {
   "cell_type": "markdown",
   "id": "778ca593",
   "metadata": {
    "papermill": {
     "duration": 0.007357,
     "end_time": "2024-10-09T11:37:05.397583",
     "exception": false,
     "start_time": "2024-10-09T11:37:05.390226",
     "status": "completed"
    },
    "tags": []
   },
   "source": [
    "# Step 4 : finding our culprit"
   ]
  },
  {
   "cell_type": "markdown",
   "id": "0b8cc213",
   "metadata": {
    "papermill": {
     "duration": 0.007528,
     "end_time": "2024-10-09T11:37:05.412582",
     "exception": false,
     "start_time": "2024-10-09T11:37:05.405054",
     "status": "completed"
    },
    "tags": []
   },
   "source": [
    "Culprit was going to gym on January 9, 2018"
   ]
  },
  {
   "cell_type": "code",
   "execution_count": 11,
   "id": "060f0dcd",
   "metadata": {
    "execution": {
     "iopub.execute_input": "2024-10-09T11:37:05.428815Z",
     "iopub.status.busy": "2024-10-09T11:37:05.428445Z",
     "iopub.status.idle": "2024-10-09T11:37:05.463915Z",
     "shell.execute_reply": "2024-10-09T11:37:05.462804Z"
    },
    "papermill": {
     "duration": 0.04637,
     "end_time": "2024-10-09T11:37:05.466361",
     "exception": false,
     "start_time": "2024-10-09T11:37:05.419991",
     "status": "completed"
    },
    "tags": []
   },
   "outputs": [
    {
     "data": {
      "text/html": [
       "<div>\n",
       "<style scoped>\n",
       "    .dataframe tbody tr th:only-of-type {\n",
       "        vertical-align: middle;\n",
       "    }\n",
       "\n",
       "    .dataframe tbody tr th {\n",
       "        vertical-align: top;\n",
       "    }\n",
       "\n",
       "    .dataframe thead th {\n",
       "        text-align: right;\n",
       "    }\n",
       "</style>\n",
       "<table border=\"1\" class=\"dataframe\">\n",
       "  <thead>\n",
       "    <tr style=\"text-align: right;\">\n",
       "      <th></th>\n",
       "      <th>membership_id</th>\n",
       "      <th>check_in_date</th>\n",
       "      <th>check_in_time</th>\n",
       "      <th>check_out_time</th>\n",
       "    </tr>\n",
       "  </thead>\n",
       "  <tbody>\n",
       "    <tr>\n",
       "      <th>0</th>\n",
       "      <td>X0643</td>\n",
       "      <td>20180109</td>\n",
       "      <td>957</td>\n",
       "      <td>1164</td>\n",
       "    </tr>\n",
       "    <tr>\n",
       "      <th>1</th>\n",
       "      <td>UK1F2</td>\n",
       "      <td>20180109</td>\n",
       "      <td>344</td>\n",
       "      <td>518</td>\n",
       "    </tr>\n",
       "    <tr>\n",
       "      <th>2</th>\n",
       "      <td>XTE42</td>\n",
       "      <td>20180109</td>\n",
       "      <td>486</td>\n",
       "      <td>1124</td>\n",
       "    </tr>\n",
       "    <tr>\n",
       "      <th>3</th>\n",
       "      <td>1AE2H</td>\n",
       "      <td>20180109</td>\n",
       "      <td>461</td>\n",
       "      <td>944</td>\n",
       "    </tr>\n",
       "    <tr>\n",
       "      <th>4</th>\n",
       "      <td>6LSTG</td>\n",
       "      <td>20180109</td>\n",
       "      <td>399</td>\n",
       "      <td>515</td>\n",
       "    </tr>\n",
       "    <tr>\n",
       "      <th>5</th>\n",
       "      <td>7MWHJ</td>\n",
       "      <td>20180109</td>\n",
       "      <td>273</td>\n",
       "      <td>885</td>\n",
       "    </tr>\n",
       "    <tr>\n",
       "      <th>6</th>\n",
       "      <td>GE5Q8</td>\n",
       "      <td>20180109</td>\n",
       "      <td>367</td>\n",
       "      <td>959</td>\n",
       "    </tr>\n",
       "    <tr>\n",
       "      <th>7</th>\n",
       "      <td>48Z7A</td>\n",
       "      <td>20180109</td>\n",
       "      <td>1600</td>\n",
       "      <td>1730</td>\n",
       "    </tr>\n",
       "    <tr>\n",
       "      <th>8</th>\n",
       "      <td>48Z55</td>\n",
       "      <td>20180109</td>\n",
       "      <td>1530</td>\n",
       "      <td>1700</td>\n",
       "    </tr>\n",
       "    <tr>\n",
       "      <th>9</th>\n",
       "      <td>90081</td>\n",
       "      <td>20180109</td>\n",
       "      <td>1600</td>\n",
       "      <td>1700</td>\n",
       "    </tr>\n",
       "  </tbody>\n",
       "</table>\n",
       "</div>"
      ],
      "text/plain": [
       "  membership_id  check_in_date  check_in_time  check_out_time\n",
       "0         X0643       20180109            957            1164\n",
       "1         UK1F2       20180109            344             518\n",
       "2         XTE42       20180109            486            1124\n",
       "3         1AE2H       20180109            461             944\n",
       "4         6LSTG       20180109            399             515\n",
       "5         7MWHJ       20180109            273             885\n",
       "6         GE5Q8       20180109            367             959\n",
       "7         48Z7A       20180109           1600            1730\n",
       "8         48Z55       20180109           1530            1700\n",
       "9         90081       20180109           1600            1700"
      ]
     },
     "execution_count": 11,
     "metadata": {},
     "output_type": "execute_result"
    }
   ],
   "source": [
    "query9 = \"\"\"\n",
    "SELECT *\n",
    "FROM get_fit_now_check_in\n",
    "WHERE check_in_date = \"20180109\";\n",
    "\"\"\"\n",
    "pd.read_sql_query(query9, con)"
   ]
  },
  {
   "cell_type": "markdown",
   "id": "7e2d1dba",
   "metadata": {
    "papermill": {
     "duration": 0.007241,
     "end_time": "2024-10-09T11:37:05.481402",
     "exception": false,
     "start_time": "2024-10-09T11:37:05.474161",
     "status": "completed"
    },
    "tags": []
   },
   "source": [
    "Aha, I saw person with membership_id 48Z7A , 48Z55. interesting."
   ]
  },
  {
   "cell_type": "code",
   "execution_count": 12,
   "id": "827b56b3",
   "metadata": {
    "execution": {
     "iopub.execute_input": "2024-10-09T11:37:05.498675Z",
     "iopub.status.busy": "2024-10-09T11:37:05.497867Z",
     "iopub.status.idle": "2024-10-09T11:37:05.514975Z",
     "shell.execute_reply": "2024-10-09T11:37:05.513875Z"
    },
    "papermill": {
     "duration": 0.028319,
     "end_time": "2024-10-09T11:37:05.517268",
     "exception": false,
     "start_time": "2024-10-09T11:37:05.488949",
     "status": "completed"
    },
    "tags": []
   },
   "outputs": [
    {
     "data": {
      "text/html": [
       "<div>\n",
       "<style scoped>\n",
       "    .dataframe tbody tr th:only-of-type {\n",
       "        vertical-align: middle;\n",
       "    }\n",
       "\n",
       "    .dataframe tbody tr th {\n",
       "        vertical-align: top;\n",
       "    }\n",
       "\n",
       "    .dataframe thead th {\n",
       "        text-align: right;\n",
       "    }\n",
       "</style>\n",
       "<table border=\"1\" class=\"dataframe\">\n",
       "  <thead>\n",
       "    <tr style=\"text-align: right;\">\n",
       "      <th></th>\n",
       "      <th>id</th>\n",
       "      <th>person_id</th>\n",
       "      <th>name</th>\n",
       "      <th>membership_start_date</th>\n",
       "      <th>membership_status</th>\n",
       "    </tr>\n",
       "  </thead>\n",
       "  <tbody>\n",
       "    <tr>\n",
       "      <th>0</th>\n",
       "      <td>48Z55</td>\n",
       "      <td>67318</td>\n",
       "      <td>Jeremy Bowers</td>\n",
       "      <td>20160101</td>\n",
       "      <td>gold</td>\n",
       "    </tr>\n",
       "    <tr>\n",
       "      <th>1</th>\n",
       "      <td>48Z7A</td>\n",
       "      <td>28819</td>\n",
       "      <td>Joe Germuska</td>\n",
       "      <td>20160305</td>\n",
       "      <td>gold</td>\n",
       "    </tr>\n",
       "  </tbody>\n",
       "</table>\n",
       "</div>"
      ],
      "text/plain": [
       "      id  person_id           name  membership_start_date membership_status\n",
       "0  48Z55      67318  Jeremy Bowers               20160101              gold\n",
       "1  48Z7A      28819   Joe Germuska               20160305              gold"
      ]
     },
     "execution_count": 12,
     "metadata": {},
     "output_type": "execute_result"
    }
   ],
   "source": [
    "query10 = \"\"\"\n",
    "SELECT *\n",
    "FROM get_fit_now_member\n",
    "WHERE id in (\"48Z7A\",\"48Z55\");\n",
    "\"\"\"\n",
    "pd.read_sql_query(query10, con)"
   ]
  },
  {
   "cell_type": "code",
   "execution_count": 13,
   "id": "34198f63",
   "metadata": {
    "execution": {
     "iopub.execute_input": "2024-10-09T11:37:05.535447Z",
     "iopub.status.busy": "2024-10-09T11:37:05.534512Z",
     "iopub.status.idle": "2024-10-09T11:37:05.547969Z",
     "shell.execute_reply": "2024-10-09T11:37:05.546971Z"
    },
    "papermill": {
     "duration": 0.024764,
     "end_time": "2024-10-09T11:37:05.550142",
     "exception": false,
     "start_time": "2024-10-09T11:37:05.525378",
     "status": "completed"
    },
    "tags": []
   },
   "outputs": [
    {
     "data": {
      "text/html": [
       "<div>\n",
       "<style scoped>\n",
       "    .dataframe tbody tr th:only-of-type {\n",
       "        vertical-align: middle;\n",
       "    }\n",
       "\n",
       "    .dataframe tbody tr th {\n",
       "        vertical-align: top;\n",
       "    }\n",
       "\n",
       "    .dataframe thead th {\n",
       "        text-align: right;\n",
       "    }\n",
       "</style>\n",
       "<table border=\"1\" class=\"dataframe\">\n",
       "  <thead>\n",
       "    <tr style=\"text-align: right;\">\n",
       "      <th></th>\n",
       "      <th>id</th>\n",
       "      <th>name</th>\n",
       "      <th>license_id</th>\n",
       "      <th>address_number</th>\n",
       "      <th>address_street_name</th>\n",
       "      <th>ssn</th>\n",
       "    </tr>\n",
       "  </thead>\n",
       "  <tbody>\n",
       "    <tr>\n",
       "      <th>0</th>\n",
       "      <td>28819</td>\n",
       "      <td>Joe Germuska</td>\n",
       "      <td>173289</td>\n",
       "      <td>111</td>\n",
       "      <td>Fisk Rd</td>\n",
       "      <td>138909730</td>\n",
       "    </tr>\n",
       "    <tr>\n",
       "      <th>1</th>\n",
       "      <td>67318</td>\n",
       "      <td>Jeremy Bowers</td>\n",
       "      <td>423327</td>\n",
       "      <td>530</td>\n",
       "      <td>Washington Pl, Apt 3A</td>\n",
       "      <td>871539279</td>\n",
       "    </tr>\n",
       "  </tbody>\n",
       "</table>\n",
       "</div>"
      ],
      "text/plain": [
       "      id           name  license_id  address_number    address_street_name  \\\n",
       "0  28819   Joe Germuska      173289             111                Fisk Rd   \n",
       "1  67318  Jeremy Bowers      423327             530  Washington Pl, Apt 3A   \n",
       "\n",
       "         ssn  \n",
       "0  138909730  \n",
       "1  871539279  "
      ]
     },
     "execution_count": 13,
     "metadata": {},
     "output_type": "execute_result"
    }
   ],
   "source": [
    "query11 = \"\"\"\n",
    "SELECT *\n",
    "FROM person\n",
    "WHERE id in (\"67318\",\"28819\");\n",
    "\"\"\"\n",
    "pd.read_sql_query(query11, con)"
   ]
  },
  {
   "cell_type": "markdown",
   "id": "0ee15529",
   "metadata": {
    "papermill": {
     "duration": 0.007864,
     "end_time": "2024-10-09T11:37:05.566178",
     "exception": false,
     "start_time": "2024-10-09T11:37:05.558314",
     "status": "completed"
    },
    "tags": []
   },
   "source": [
    "We trace membership_id. We curious Joe Germuska and Jeremy Bowers. "
   ]
  },
  {
   "cell_type": "code",
   "execution_count": 14,
   "id": "1b2c554a",
   "metadata": {
    "execution": {
     "iopub.execute_input": "2024-10-09T11:37:05.584562Z",
     "iopub.status.busy": "2024-10-09T11:37:05.583328Z",
     "iopub.status.idle": "2024-10-09T11:37:05.601104Z",
     "shell.execute_reply": "2024-10-09T11:37:05.600002Z"
    },
    "papermill": {
     "duration": 0.029484,
     "end_time": "2024-10-09T11:37:05.603678",
     "exception": false,
     "start_time": "2024-10-09T11:37:05.574194",
     "status": "completed"
    },
    "tags": []
   },
   "outputs": [
    {
     "data": {
      "text/html": [
       "<div>\n",
       "<style scoped>\n",
       "    .dataframe tbody tr th:only-of-type {\n",
       "        vertical-align: middle;\n",
       "    }\n",
       "\n",
       "    .dataframe tbody tr th {\n",
       "        vertical-align: top;\n",
       "    }\n",
       "\n",
       "    .dataframe thead th {\n",
       "        text-align: right;\n",
       "    }\n",
       "</style>\n",
       "<table border=\"1\" class=\"dataframe\">\n",
       "  <thead>\n",
       "    <tr style=\"text-align: right;\">\n",
       "      <th></th>\n",
       "      <th>id</th>\n",
       "      <th>age</th>\n",
       "      <th>height</th>\n",
       "      <th>eye_color</th>\n",
       "      <th>hair_color</th>\n",
       "      <th>gender</th>\n",
       "      <th>plate_number</th>\n",
       "      <th>car_make</th>\n",
       "      <th>car_model</th>\n",
       "    </tr>\n",
       "  </thead>\n",
       "  <tbody>\n",
       "    <tr>\n",
       "      <th>0</th>\n",
       "      <td>423327</td>\n",
       "      <td>30</td>\n",
       "      <td>70</td>\n",
       "      <td>brown</td>\n",
       "      <td>brown</td>\n",
       "      <td>male</td>\n",
       "      <td>0H42W2</td>\n",
       "      <td>Chevrolet</td>\n",
       "      <td>Spark LS</td>\n",
       "    </tr>\n",
       "  </tbody>\n",
       "</table>\n",
       "</div>"
      ],
      "text/plain": [
       "       id  age  height eye_color hair_color gender plate_number   car_make  \\\n",
       "0  423327   30      70     brown      brown   male       0H42W2  Chevrolet   \n",
       "\n",
       "  car_model  \n",
       "0  Spark LS  "
      ]
     },
     "execution_count": 14,
     "metadata": {},
     "output_type": "execute_result"
    }
   ],
   "source": [
    "query12 = \"\"\"\n",
    "SELECT *\n",
    "FROM drivers_license\n",
    "WHERE id in (\"178289\",\"423327\");\n",
    "\"\"\"\n",
    "pd.read_sql_query(query12, con)"
   ]
  },
  {
   "cell_type": "markdown",
   "id": "9153f80c",
   "metadata": {
    "papermill": {
     "duration": 0.007929,
     "end_time": "2024-10-09T11:37:05.620011",
     "exception": false,
     "start_time": "2024-10-09T11:37:05.612082",
     "status": "completed"
    },
    "tags": []
   },
   "source": [
    "With all the queries above. The culprit of this crime should be **\"Jeremy Bowers\"**"
   ]
  }
 ],
 "metadata": {
  "kaggle": {
   "accelerator": "none",
   "dataSources": [
    {
     "datasetId": 2282161,
     "sourceId": 3833395,
     "sourceType": "datasetVersion"
    }
   ],
   "dockerImageVersionId": 30775,
   "isGpuEnabled": false,
   "isInternetEnabled": false,
   "language": "python",
   "sourceType": "notebook"
  },
  "kernelspec": {
   "display_name": "Python 3",
   "language": "python",
   "name": "python3"
  },
  "language_info": {
   "codemirror_mode": {
    "name": "ipython",
    "version": 3
   },
   "file_extension": ".py",
   "mimetype": "text/x-python",
   "name": "python",
   "nbconvert_exporter": "python",
   "pygments_lexer": "ipython3",
   "version": "3.10.14"
  },
  "papermill": {
   "default_parameters": {},
   "duration": 4.881807,
   "end_time": "2024-10-09T11:37:06.047758",
   "environment_variables": {},
   "exception": null,
   "input_path": "__notebook__.ipynb",
   "output_path": "__notebook__.ipynb",
   "parameters": {},
   "start_time": "2024-10-09T11:37:01.165951",
   "version": "2.6.0"
  }
 },
 "nbformat": 4,
 "nbformat_minor": 5
}
